{
 "cells": [
  {
   "cell_type": "code",
   "execution_count": null,
   "metadata": {},
   "outputs": [],
   "source": [
    "import geopandas as gpd\n",
    "from owslib.wfs import WebFeatureService\n",
    "from requests import Request"
   ]
  },
  {
   "cell_type": "code",
   "execution_count": null,
   "metadata": {},
   "outputs": [],
   "source": []
  },
  {
   "cell_type": "markdown",
   "metadata": {},
   "source": [
    "Det er den her der virker\n"
   ]
  },
  {
   "cell_type": "code",
   "execution_count": 61,
   "metadata": {},
   "outputs": [
    {
     "name": "stdout",
     "output_type": "stream",
     "text": [
      "run\n"
     ]
    }
   ],
   "source": [
    "base_url = \"https://geoserver.plandata.dk/geoserver/wfs\"\n",
    "wfs = WebFeatureService(url=base_url, version='2.0.0')\n",
    "\n",
    "headers = {\n",
    "    # ... your headers if any ...\n",
    "}\n",
    "for layer in wfs.contents:\n",
    "    \n",
    "    startIndex = 0\n",
    "    count = 1000\n",
    "    all_content = ''\n",
    "    layer_file_name =layer.replace(':', '_')\n",
    "    print(layer)\n",
    "    while True:\n",
    "        print(\"run\")\n",
    "        params = {\n",
    "            \"service\": \"WFS\",\n",
    "            \"version\": \"2.0.0\",\n",
    "            \"request\": \"GetFeature\",\n",
    "            \"typeNames\": \"lpd:lpd_bp_Stationer\",  # replace with the correct typeName\n",
    "            'startIndex': startIndex,\n",
    "            'count': count\n",
    "        }\n",
    "        \n",
    "        response = requests.get(base_url, headers=headers, params=params)\n",
    "        \n",
    "        content = response.content.decode('utf-8')\n",
    "        \n",
    "        # If it's the first iteration, store everything up to the first <wfs:member> tag\n",
    "        if startIndex == 0:\n",
    "            all_content += content.split('<wfs:member>')[0]\n",
    "\n",
    "        # Extract and store all <wfs:member> sections\n",
    "        members = content.split('<wfs:member>')[1:]\n",
    "        for member in members:\n",
    "            all_content += '<wfs:member>' + member.split('</wfs:member>')[0] + '</wfs:member>'\n",
    "        \n",
    "        # Check if there's more to fetch\n",
    "        if content.count('<wfs:member>') < count:\n",
    "            break\n",
    "\n",
    "        startIndex += count\n",
    "\n",
    "    # Add the closing tag\n",
    "    all_content += \"</wfs:FeatureCollection>\"\n",
    "\n",
    "    # Save to a GML file\n",
    "    with open('./data/'+ layer_file_name +'.gml', 'w') as file:\n",
    "        file.write(all_content)\n"
   ]
  },
  {
   "cell_type": "code",
   "execution_count": null,
   "metadata": {},
   "outputs": [],
   "source": [
    "print(all_content)"
   ]
  },
  {
   "cell_type": "code",
   "execution_count": null,
   "metadata": {},
   "outputs": [],
   "source": [
    "print(root)"
   ]
  },
  {
   "cell_type": "code",
   "execution_count": null,
   "metadata": {},
   "outputs": [],
   "source": [
    "wfs = WebFeatureService(url='https://geoserver.plandata.dk/geoserver/wfs', version='2.0.0')\n",
    "base_request_str = 'https://geoserver.plandata.dk/geoserver/wfs?service=WFS&version=2.0.0&request=GetFeature&typeNames='\n",
    "\n",
    "# Create an empty GeoPackage file or use an existing one\n",
    "output_gpkg = './data/plandata.gpkg'\n",
    "\n",
    "for layer in wfs.contents:\n",
    "    print(layer)\n",
    "    url = base_request_str + layer\n",
    "\n",
    "    q = Request('GET', url).prepare().url\n",
    "    try:\n",
    "        df = gpd.read_file(q, format='GML')\n",
    "        df.crs = 'EPSG:25832'\n",
    "        layer_file_bame =layer.replace(':', '_')\n",
    "        #df.to_file(layer_file_bame+'.shp')\n",
    "        gdf.to_file(output_gpkg, layer=layer, driver=\"GPKG\", mode='a' if os.path.exists(output_gpkg) else 'w')\n",
    "    except Exception as e:\n",
    "        print(f\"An error occurred: {e}\")\n",
    "        continue  # This is optional as the loop will naturally go to the next iteration\n",
    "    \n",
    "\n"
   ]
  },
  {
   "cell_type": "markdown",
   "metadata": {},
   "source": [
    "this can be expanded to \n",
    "\n",
    "    First request that starts from the beginning\n",
    "\n",
    "http://wms.pcn.minambiente.it/ogc?map=/ms_ogc/wfs/Edifici.map&service=WFS&version=1.1.0&request=GetFeature&typename=ED.EDIFICATO.CAPOLUOGHI.&maxfeatures=1000\n",
    "\n",
    "Save response into file\n",
    "\n",
    "    Second request\n",
    "\n",
    "http://wms.pcn.minambiente.it/ogc?map=/ms_ogc/wfs/Edifici.map&service=WFS&version=1.1.0&request=GetFeature&typename=ED.EDIFICATO.CAPOLUOGHI.&MaxFeatures=1000&StartIndex=1000"
   ]
  },
  {
   "cell_type": "code",
   "execution_count": null,
   "metadata": {},
   "outputs": [],
   "source": [
    "def download_wfs_layers_to_geopackage(url, output_filepath):\n",
    "    # Connect to the WFS service\n",
    "    wfs = WebFeatureService(url=url)\n",
    "    \n",
    "    # Check WFS version and set typename parameter accordingly\n",
    "    typename_param = 'typename'\n",
    "    if wfs.version == '2.0.0':\n",
    "        typename_param = 'typenames'\n",
    "\n",
    "    # For each layer, download its data\n",
    "    for layer in wfs.contents:\n",
    "        print(layer)\n",
    "        # Check if layer name contains namespace (like 'namespace:layername')\n",
    "        if ':' not in layer:\n",
    "            layer = f\"{wfs.provider.name}:{layer}\"\n",
    "        \n",
    "        params = {\n",
    "            typename_param: layer,\n",
    "            'outputFormat': 'application/json'\n",
    "        }\n",
    "        \n",
    "        try:\n",
    "            response = wfs.getfeature(**params)\n",
    "            data = response.read()\n",
    "            gdf = gpd.read_file(data)\n",
    "            \n",
    "            # Append the data to the GeoPackage\n",
    "            mode = 'a' if 'tables' in gpd.io.file.fiona.drvsupport.supported_drivers['GPKG'] and layer in gpd.io.file.fiona.drvsupport.supported_drivers['GPKG']['tables'] else 'w'\n",
    "            gdf.to_file(output_filepath, layer=layer, driver=\"GPKG\", mode=mode)\n",
    "            print(f\"Saved {layer} to {output_filepath}\")\n",
    "        except Exception as e:\n",
    "            print(f\"Error fetching data for layer {layer}: {e}\")\n",
    "\n",
    "\n",
    "if __name__ == '__main__':\n",
    "    wfs_url = 'https://geoserver.plandata.dk/geoserver/wfs?servicename=wfs&request=getcapabilities&service=wfs'\n",
    "    output_filepath = './data/plandata.gpkg'  # e.g., './data.gpkg'\n",
    "    download_wfs_layers_to_geopackage(wfs_url, output_filepath)\n"
   ]
  },
  {
   "cell_type": "code",
   "execution_count": null,
   "metadata": {},
   "outputs": [],
   "source": [
    "from owslib.wfs import WebFeatureService\n",
    "wfs = WebFeatureService(url='https://geoserver.plandata.dk/geoserver/wfs', version='2.0.0')\n"
   ]
  },
  {
   "cell_type": "code",
   "execution_count": null,
   "metadata": {},
   "outputs": [],
   "source": [
    "[operation.name for operation in wfs11.operations]"
   ]
  },
  {
   "cell_type": "code",
   "execution_count": null,
   "metadata": {},
   "outputs": [],
   "source": [
    "list(wfs11.contents)"
   ]
  },
  {
   "cell_type": "code",
   "execution_count": null,
   "metadata": {},
   "outputs": [],
   "source": [
    "from requests import Request\n",
    "#url = 'http://wms.pcn.minambiente.it/ogc?map=/ms_ogc/wfs/Edifici.map&service=wfs&request=getFeature&version=1.0.0&typename=ED.EDIFICATO.CAPOLUOGHI.'\n",
    "url = 'https://geoserver.plandata.dk/geoserver/wfs?service=WFS&version=2.0.0&request=GetFeature&typeNames=lpd:lpd_bp_Stationer'\n",
    "\n",
    "\n",
    "q = Request('GET', url).prepare().url\n",
    "df = gpd.read_file(q, format='GML')\n",
    "df.crs = 'EPSG:25832'\n",
    "\n",
    "df.to_file('output.shp')"
   ]
  },
  {
   "cell_type": "code",
   "execution_count": null,
   "metadata": {},
   "outputs": [],
   "source": [
    "import geopandas as gpd\n",
    "from owslib.wfs import WebFeatureService\n",
    "import os\n",
    "\n",
    "# Define the WFS endpoint\n",
    "url = 'https://geoserver.plandata.dk/geoserver/wfs'\n",
    "\n",
    "# Connect to the WFS service\n",
    "wfs = WebFeatureService(url)\n",
    "\n",
    "# List feature types (layers) available in the service\n",
    "layers = list(wfs.contents.keys())\n",
    "\n",
    "# Create an empty GeoPackage file or use an existing one\n",
    "output_gpkg = 'output.gpkg'\n",
    "\n",
    "for layer in layers:\n",
    "    # Build the request URL for each layer\n",
    "    print(layer)\n",
    "    layer_url = f\"{url}?service=WFS&version=2.0.0&request=GetFeature&typeNames={layer}\"\n",
    "    # Read the layer into a GeoDataFrame\n",
    "    gdf = gpd.read_file(layer_url)\n",
    "    \n",
    "    # Set the Coordinate Reference System (CRS)\n",
    "    gdf.crs = 'EPSG:25832'\n",
    "    \n",
    "    # Save the GeoDataFrame to the GeoPackage\n",
    "    gdf.to_file(output_gpkg, layer=layer, driver=\"GPKG\", mode='a' if os.path.exists(output_gpkg) else 'w')\n",
    "\n",
    "print(f\"All layers saved to {output_gpkg}\")"
   ]
  },
  {
   "cell_type": "code",
   "execution_count": null,
   "metadata": {},
   "outputs": [],
   "source": [
    "[storedquery.id for storedquery in wfs11.storedqueries]"
   ]
  },
  {
   "cell_type": "code",
   "execution_count": null,
   "metadata": {},
   "outputs": [],
   "source": [
    "[parameter.name for parameter in wfs11.storedqueries[0].parameters]"
   ]
  },
  {
   "cell_type": "code",
   "execution_count": null,
   "metadata": {},
   "outputs": [],
   "source": [
    "response = wfs11.getfeature(storedQueryID='urn:ogc:def:query:OGC-WFS::GetFeatureById', storedQueryParams={'ID':'gmd_ex.1'})"
   ]
  },
  {
   "cell_type": "markdown",
   "metadata": {},
   "source": [
    "[operation.name for operation in wfs11.operations]"
   ]
  }
 ],
 "metadata": {
  "kernelspec": {
   "display_name": "wfs",
   "language": "python",
   "name": "python3"
  },
  "language_info": {
   "codemirror_mode": {
    "name": "ipython",
    "version": 3
   },
   "file_extension": ".py",
   "mimetype": "text/x-python",
   "name": "python",
   "nbconvert_exporter": "python",
   "pygments_lexer": "ipython3",
   "version": "3.9.17"
  },
  "orig_nbformat": 4
 },
 "nbformat": 4,
 "nbformat_minor": 2
}
